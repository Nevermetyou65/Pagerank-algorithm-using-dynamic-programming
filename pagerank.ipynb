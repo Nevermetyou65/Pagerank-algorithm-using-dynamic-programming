{
 "cells": [
  {
   "cell_type": "markdown",
   "source": [
    "# ***Pagerank algorithm*** using dynamic programming"
   ],
   "metadata": {}
  },
  {
   "cell_type": "code",
   "execution_count": null,
   "source": [
    "# import necessary packages\r\n",
    "import numpy as np\r\n",
    "from numpy import  linalg\r\n",
    "import matplotlib.pyplot as plt\r\n",
    "plt.style.use(\"fivethirtyeight\")  "
   ],
   "outputs": [],
   "metadata": {}
  },
  {
   "cell_type": "markdown",
   "source": [
    "In this notebook, I'm going to use the same micro-internet that used to be my assignment in coursera's course.<br>\r\n",
    "<center><img src=\"pic.png\" width=500 height=200/></center><br>\r\n",
    "<center><a href=\"https://www.coursera.org/learn/multivariate-calculus-machine-learning?skipBrowseRedirect=true\">Image's Source</a></center>"
   ],
   "metadata": {}
  },
  {
   "cell_type": "markdown",
   "source": [
    "Each node in the image represent a web-page and its edge(arrow pointing out or in) is the hyperlink to other.<br>\r\n",
    "To put it simple, pagerank algorithm is the algorithm that will simulate that if there were a 100 random web surfer (who when reaching a page, goes to the next page via the links) what would be the number of the web surfer in each web-page in the long run (when the number of entering and leaving the web is constant which is the equilibrium state defined in Markov Chains).<br>\r\n",
    "\r\n",
    "(The above idea if from my understanding if ther is any incorrect information, please infrom me)\r\n"
   ],
   "metadata": {}
  },
  {
   "cell_type": "markdown",
   "source": [
    "Obviously, in the long run, the web-page that has the highest number of visitors will be ranked the most important and appear in the top of the search."
   ],
   "metadata": {}
  },
  {
   "cell_type": "markdown",
   "source": [
    "The quation below represent the dynamic behavior of this algorithm.\r\n",
    "\r\n",
    "$$ \\mathbf{r}^{(i+1)} = T \\,\\mathbf{r}^{(i)} \\,\\,\\, for\\,\\,i=0,1,2,...$$\r\n",
    "which  $\\mathbf{r}^{i+1}$ is a vector of a wab-page's ranking at time i (but this will not be at the starting of the process but afther a while ->> approaching an equilibrium).<br>\r\n",
    "$T$ is what we call **trainsition matrix** will each columns will represent the probability of leaving a website for any other website which will sum to 1. The rows are the opposite but need not to sum to 1.<br>\r\n",
    "$\\mathbf{r}^{0}$ is a vector of initial ranking (or you can call **initial state** in Markov Chain) of all web-page which, in this case, I will assume that every web-page is ranked equally (which is widely use in simple pagerank)."
   ],
   "metadata": {}
  },
  {
   "cell_type": "markdown",
   "source": [
    "From Linear algebra's prespective, when the system is at equilibrium state the equation will be $$\\mathbf{r}=T\\,\\mathbf{r}$$ which r will be your **eigenvector** that has eigenvalue = 1 (which one will be the largest eigenvalue according to Frobinius-Perron theorem).<br>\r\n",
    "In other words, you can thinks of this as looping the equation (multiplying $\\mathbf{r}^{0}$ many time by transition matrix) until you find the eigenvector with eigenvalue equal to 1. This method is called **power iteration method**."
   ],
   "metadata": {}
  },
  {
   "cell_type": "markdown",
   "source": [
    "# NOW..."
   ],
   "metadata": {}
  },
  {
   "cell_type": "markdown",
   "source": [
    "Because of the recursive nature of the above equation, I thought to myself that this would be a good time for me to practive writing dynamic programming (and a little bit of recursive function).<br>\r\n",
    "SO, in this notebook, I will demonstrate the Pagerank algorithm in my style of dynamic programming both in bottom-up and top-down manner."
   ],
   "metadata": {}
  },
  {
   "cell_type": "code",
   "execution_count": null,
   "source": [
    "T = np.array([[0,   1/2, 1/3, 0, 0,   0],\r\n",
    "              [1/3, 0,   0,   0, 1/2, 0],\r\n",
    "              [1/3, 1/2, 0,   1, 0,   1/2],\r\n",
    "              [1/3, 0,   1/3, 0, 1/2, 1/2],\r\n",
    "              [0,   0,   0,   0, 0,   0],\r\n",
    "              [0,   0,   1/3, 0, 0,   0]])\r\n",
    "# Transition matrix coresponding to my micro-internet\r\n",
    "r_0 = 100 * np.ones(6) / 6 # initial ranking vector, assumed random web surfer 100 in this micor-internet"
   ],
   "outputs": [],
   "metadata": {}
  },
  {
   "cell_type": "markdown",
   "source": [
    "# The basic idea of dynamic programming is to store the result of a problem after solving it. So when we get the need to use the solution of the problem, then we don't have to solve the problem again and just use the stored solution. [(source)](https://www.codesdope.com/course/algorithms-dynamic-programming/)\r\n"
   ],
   "metadata": {}
  },
  {
   "cell_type": "code",
   "execution_count": null,
   "source": [
    "# bottom-up -> TABULATION\r\n",
    "def page_rank_tabulation(transition_matrix, initial_vec, iteration=100):\r\n",
    "    vec_container = [0]*iteration\r\n",
    "    vec_container[0] = initial_vec\r\n",
    "    for i in range(1, iteration):\r\n",
    "        vec_container[i] = transition_matrix @ vec_container[i-1]\r\n",
    "        if np.absolute(linalg.norm(vec_container[i] - vec_container[i-1])) < 0.001:\r\n",
    "            return vec_container\r\n",
    "    return vec_container"
   ],
   "outputs": [],
   "metadata": {}
  },
  {
   "cell_type": "code",
   "execution_count": null,
   "source": [
    "vectors = page_rank_tabulation(T, r_0, 30)\r\n",
    "print(vectors)"
   ],
   "outputs": [],
   "metadata": {}
  },
  {
   "cell_type": "markdown",
   "source": [
    "In the below cell, we have the simulated number of random web surfer when the system reached equilibrium state. You can clearly see the web **C** has the highest ranking among the others (which is reasonable if you look back to the image), so it will come up 1st place in your search."
   ],
   "metadata": {}
  },
  {
   "cell_type": "code",
   "execution_count": null,
   "source": [
    "vectors = [vector for vector in vectors if isinstance(vector, np.ndarray)]\r\n",
    "print(vectors[-1])"
   ],
   "outputs": [],
   "metadata": {}
  },
  {
   "cell_type": "code",
   "execution_count": null,
   "source": [
    "fig = plt.figure(figsize=(12, 8), dpi=100)\r\n",
    "plt.bar(x=[\"A\", \"B\", \"C\", \"D\", \"E\", \"F\"], height=vectors[-1])\r\n",
    "plt.xlabel(\"Web's name\")\r\n",
    "plt.ylabel(\"Ranking\")\r\n",
    "plt.title(\"Result from Pagrrank algorithm\")"
   ],
   "outputs": [],
   "metadata": {}
  },
  {
   "cell_type": "code",
   "execution_count": null,
   "source": [
    "# top-down approach ->> MEMOIZATION\r\n",
    "vec_container = [0] * 100\r\n",
    "def page_rank_memoization(n=100):\r\n",
    "    if n==0:\r\n",
    "        vec_container[0] = r_0\r\n",
    "    else:\r\n",
    "        vec_container[n] = T @ page_rank_memoization(n-1) # recursive\r\n",
    "\r\n",
    "    return vec_container[n]"
   ],
   "outputs": [],
   "metadata": {}
  },
  {
   "cell_type": "code",
   "execution_count": null,
   "source": [
    "eigenvector = page_rank_memoization(50)\r\n",
    "print(eigenvector)"
   ],
   "outputs": [],
   "metadata": {}
  },
  {
   "cell_type": "markdown",
   "source": [
    "Note the my top-down approach code is not a good code at all (LOL) because I couldn't figure out how to write exiting condition in that function (I will try again someday...) and that made the result a bit different from the bottom-up approach."
   ],
   "metadata": {}
  },
  {
   "cell_type": "markdown",
   "source": [
    "# END"
   ],
   "metadata": {}
  }
 ],
 "metadata": {
  "orig_nbformat": 4,
  "language_info": {
   "name": "python",
   "version": "3.8.8",
   "mimetype": "text/x-python",
   "codemirror_mode": {
    "name": "ipython",
    "version": 3
   },
   "pygments_lexer": "ipython3",
   "nbconvert_exporter": "python",
   "file_extension": ".py"
  },
  "kernelspec": {
   "name": "python3",
   "display_name": "Python 3.8.8 64-bit ('base': conda)"
  },
  "interpreter": {
   "hash": "8f06dfb525f9924a176ad156070c2381302320573984100a28858c10f60fedad"
  }
 },
 "nbformat": 4,
 "nbformat_minor": 2
}